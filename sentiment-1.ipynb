{
 "cells": [
  {
   "cell_type": "code",
   "execution_count": 182,
   "metadata": {
    "scrolled": true
   },
   "outputs": [
    {
     "name": "stdout",
     "output_type": "stream",
     "text": [
      "Requirement already up-to-date: gensim in c:\\users\\raresgeorge\\anaconda3\\lib\\site-packages (4.0.1)\n",
      "Requirement already satisfied, skipping upgrade: Cython==0.29.21 in c:\\users\\raresgeorge\\anaconda3\\lib\\site-packages (from gensim) (0.29.21)\n",
      "Requirement already satisfied, skipping upgrade: smart-open>=1.8.1 in c:\\users\\raresgeorge\\anaconda3\\lib\\site-packages (from gensim) (5.0.0)\n",
      "Requirement already satisfied, skipping upgrade: numpy>=1.11.3 in c:\\users\\raresgeorge\\anaconda3\\lib\\site-packages (from gensim) (1.19.2)\n",
      "Requirement already satisfied, skipping upgrade: scipy>=0.18.1 in c:\\users\\raresgeorge\\anaconda3\\lib\\site-packages (from gensim) (1.5.2)\n",
      "Requirement already up-to-date: keras in c:\\users\\raresgeorge\\anaconda3\\lib\\site-packages (2.4.3)\n",
      "Requirement already satisfied, skipping upgrade: h5py in c:\\users\\raresgeorge\\anaconda3\\lib\\site-packages (from keras) (2.10.0)\n",
      "Requirement already satisfied, skipping upgrade: scipy>=0.14 in c:\\users\\raresgeorge\\anaconda3\\lib\\site-packages (from keras) (1.5.2)\n",
      "Requirement already satisfied, skipping upgrade: pyyaml in c:\\users\\raresgeorge\\anaconda3\\lib\\site-packages (from keras) (5.3.1)\n",
      "Requirement already satisfied, skipping upgrade: numpy>=1.9.1 in c:\\users\\raresgeorge\\anaconda3\\lib\\site-packages (from keras) (1.19.2)\n",
      "Requirement already satisfied, skipping upgrade: six in c:\\users\\raresgeorge\\anaconda3\\lib\\site-packages (from h5py->keras) (1.15.0)\n",
      "Requirement already up-to-date: pandas in c:\\users\\raresgeorge\\anaconda3\\lib\\site-packages (1.2.4)\n",
      "Requirement already satisfied, skipping upgrade: numpy>=1.16.5 in c:\\users\\raresgeorge\\anaconda3\\lib\\site-packages (from pandas) (1.19.2)\n",
      "Requirement already satisfied, skipping upgrade: pytz>=2017.3 in c:\\users\\raresgeorge\\anaconda3\\lib\\site-packages (from pandas) (2020.1)\n",
      "Requirement already satisfied, skipping upgrade: python-dateutil>=2.7.3 in c:\\users\\raresgeorge\\anaconda3\\lib\\site-packages (from pandas) (2.8.1)\n",
      "Requirement already satisfied, skipping upgrade: six>=1.5 in c:\\users\\raresgeorge\\anaconda3\\lib\\site-packages (from python-dateutil>=2.7.3->pandas) (1.15.0)\n",
      "Requirement already satisfied: tensorflow in c:\\users\\raresgeorge\\anaconda3\\lib\\site-packages (2.4.1)\n",
      "Requirement already satisfied: astunparse~=1.6.3 in c:\\users\\raresgeorge\\anaconda3\\lib\\site-packages (from tensorflow) (1.6.3)\n",
      "Requirement already satisfied: numpy~=1.19.2 in c:\\users\\raresgeorge\\anaconda3\\lib\\site-packages (from tensorflow) (1.19.2)\n",
      "Requirement already satisfied: h5py~=2.10.0 in c:\\users\\raresgeorge\\anaconda3\\lib\\site-packages (from tensorflow) (2.10.0)\n",
      "Requirement already satisfied: opt-einsum~=3.3.0 in c:\\users\\raresgeorge\\anaconda3\\lib\\site-packages (from tensorflow) (3.3.0)\n",
      "Requirement already satisfied: tensorflow-estimator<2.5.0,>=2.4.0 in c:\\users\\raresgeorge\\anaconda3\\lib\\site-packages (from tensorflow) (2.4.0)\n",
      "Requirement already satisfied: protobuf>=3.9.2 in c:\\users\\raresgeorge\\anaconda3\\lib\\site-packages (from tensorflow) (3.15.8)\n",
      "Requirement already satisfied: six~=1.15.0 in c:\\users\\raresgeorge\\anaconda3\\lib\\site-packages (from tensorflow) (1.15.0)\n",
      "Requirement already satisfied: wheel~=0.35 in c:\\users\\raresgeorge\\anaconda3\\lib\\site-packages (from tensorflow) (0.35.1)\n",
      "Requirement already satisfied: wrapt~=1.12.1 in c:\\users\\raresgeorge\\anaconda3\\lib\\site-packages (from tensorflow) (1.12.1)\n",
      "Requirement already satisfied: keras-preprocessing~=1.1.2 in c:\\users\\raresgeorge\\anaconda3\\lib\\site-packages (from tensorflow) (1.1.2)\n",
      "Requirement already satisfied: typing-extensions~=3.7.4 in c:\\users\\raresgeorge\\anaconda3\\lib\\site-packages (from tensorflow) (3.7.4.3)\n",
      "Requirement already satisfied: tensorboard~=2.4 in c:\\users\\raresgeorge\\anaconda3\\lib\\site-packages (from tensorflow) (2.5.0)\n",
      "Requirement already satisfied: absl-py~=0.10 in c:\\users\\raresgeorge\\anaconda3\\lib\\site-packages (from tensorflow) (0.12.0)\n",
      "Requirement already satisfied: grpcio~=1.32.0 in c:\\users\\raresgeorge\\anaconda3\\lib\\site-packages (from tensorflow) (1.32.0)\n",
      "Requirement already satisfied: termcolor~=1.1.0 in c:\\users\\raresgeorge\\anaconda3\\lib\\site-packages (from tensorflow) (1.1.0)\n",
      "Requirement already satisfied: flatbuffers~=1.12.0 in c:\\users\\raresgeorge\\anaconda3\\lib\\site-packages (from tensorflow) (1.12)\n",
      "Requirement already satisfied: google-pasta~=0.2 in c:\\users\\raresgeorge\\anaconda3\\lib\\site-packages (from tensorflow) (0.2.0)\n",
      "Requirement already satisfied: gast==0.3.3 in c:\\users\\raresgeorge\\anaconda3\\lib\\site-packages (from tensorflow) (0.3.3)\n",
      "Requirement already satisfied: google-auth<2,>=1.6.3 in c:\\users\\raresgeorge\\anaconda3\\lib\\site-packages (from tensorboard~=2.4->tensorflow) (1.30.0)\n",
      "Requirement already satisfied: google-auth-oauthlib<0.5,>=0.4.1 in c:\\users\\raresgeorge\\anaconda3\\lib\\site-packages (from tensorboard~=2.4->tensorflow) (0.4.4)\n",
      "Requirement already satisfied: tensorboard-plugin-wit>=1.6.0 in c:\\users\\raresgeorge\\anaconda3\\lib\\site-packages (from tensorboard~=2.4->tensorflow) (1.8.0)\n",
      "Requirement already satisfied: requests<3,>=2.21.0 in c:\\users\\raresgeorge\\anaconda3\\lib\\site-packages (from tensorboard~=2.4->tensorflow) (2.24.0)\n",
      "Requirement already satisfied: werkzeug>=0.11.15 in c:\\users\\raresgeorge\\anaconda3\\lib\\site-packages (from tensorboard~=2.4->tensorflow) (1.0.1)\n",
      "Requirement already satisfied: setuptools>=41.0.0 in c:\\users\\raresgeorge\\anaconda3\\lib\\site-packages (from tensorboard~=2.4->tensorflow) (50.3.1.post20201107)\n",
      "Requirement already satisfied: markdown>=2.6.8 in c:\\users\\raresgeorge\\anaconda3\\lib\\site-packages (from tensorboard~=2.4->tensorflow) (3.3.4)\n",
      "Requirement already satisfied: tensorboard-data-server<0.7.0,>=0.6.0 in c:\\users\\raresgeorge\\anaconda3\\lib\\site-packages (from tensorboard~=2.4->tensorflow) (0.6.0)\n",
      "Requirement already satisfied: rsa<5,>=3.1.4; python_version >= \"3.6\" in c:\\users\\raresgeorge\\anaconda3\\lib\\site-packages (from google-auth<2,>=1.6.3->tensorboard~=2.4->tensorflow) (4.7.2)\n",
      "Requirement already satisfied: pyasn1-modules>=0.2.1 in c:\\users\\raresgeorge\\anaconda3\\lib\\site-packages (from google-auth<2,>=1.6.3->tensorboard~=2.4->tensorflow) (0.2.8)\n",
      "Requirement already satisfied: cachetools<5.0,>=2.0.0 in c:\\users\\raresgeorge\\anaconda3\\lib\\site-packages (from google-auth<2,>=1.6.3->tensorboard~=2.4->tensorflow) (4.2.2)\n",
      "Requirement already satisfied: requests-oauthlib>=0.7.0 in c:\\users\\raresgeorge\\anaconda3\\lib\\site-packages (from google-auth-oauthlib<0.5,>=0.4.1->tensorboard~=2.4->tensorflow) (1.3.0)\n",
      "Requirement already satisfied: certifi>=2017.4.17 in c:\\users\\raresgeorge\\anaconda3\\lib\\site-packages (from requests<3,>=2.21.0->tensorboard~=2.4->tensorflow) (2020.6.20)\n",
      "Requirement already satisfied: urllib3!=1.25.0,!=1.25.1,<1.26,>=1.21.1 in c:\\users\\raresgeorge\\anaconda3\\lib\\site-packages (from requests<3,>=2.21.0->tensorboard~=2.4->tensorflow) (1.25.11)\n",
      "Requirement already satisfied: idna<3,>=2.5 in c:\\users\\raresgeorge\\anaconda3\\lib\\site-packages (from requests<3,>=2.21.0->tensorboard~=2.4->tensorflow) (2.10)\n",
      "Requirement already satisfied: chardet<4,>=3.0.2 in c:\\users\\raresgeorge\\anaconda3\\lib\\site-packages (from requests<3,>=2.21.0->tensorboard~=2.4->tensorflow) (3.0.4)\n",
      "Requirement already satisfied: pyasn1>=0.1.3 in c:\\users\\raresgeorge\\anaconda3\\lib\\site-packages (from rsa<5,>=3.1.4; python_version >= \"3.6\"->google-auth<2,>=1.6.3->tensorboard~=2.4->tensorflow) (0.4.8)\n",
      "Requirement already satisfied: oauthlib>=3.0.0 in c:\\users\\raresgeorge\\anaconda3\\lib\\site-packages (from requests-oauthlib>=0.7.0->google-auth-oauthlib<0.5,>=0.4.1->tensorboard~=2.4->tensorflow) (3.1.0)\n"
     ]
    }
   ],
   "source": [
    "!pip install gensim --upgrade\n",
    "!pip install keras --upgrade\n",
    "!pip install pandas --upgrade\n",
    "!pip install tensorflow\n",
    "\n"
   ]
  },
  {
   "cell_type": "code",
   "execution_count": 183,
   "metadata": {},
   "outputs": [],
   "source": [
    "# DataFrame\n",
    "import pandas as pd\n",
    "\n",
    "# Matplot\n",
    "import matplotlib.pyplot as plt\n",
    "%matplotlib inline\n",
    "\n",
    "# Scikit-learn\n",
    "from sklearn.model_selection import train_test_split\n",
    "from sklearn.preprocessing import LabelEncoder\n",
    "from sklearn.metrics import confusion_matrix, classification_report, accuracy_score\n",
    "from sklearn.manifold import TSNE\n",
    "from sklearn.feature_extraction.text import TfidfVectorizer\n",
    "\n",
    "# Keras\n",
    "from keras.preprocessing.text import Tokenizer\n",
    "from keras.preprocessing.sequence import pad_sequences\n",
    "from keras.models import Sequential\n",
    "from keras.layers import Activation, Dense, Dropout, Embedding, Flatten, Conv1D, MaxPooling1D, LSTM\n",
    "from keras import utils\n",
    "from keras.callbacks import ReduceLROnPlateau, EarlyStopping\n",
    "\n",
    "# nltk\n",
    "import nltk\n",
    "from nltk.corpus import stopwords\n",
    "from  nltk.stem import SnowballStemmer\n",
    "\n",
    "# Word2vec\n",
    "import gensim\n",
    "\n",
    "# Utility\n",
    "import re\n",
    "import numpy as np\n",
    "import os\n",
    "from collections import Counter\n",
    "import logging\n",
    "import time\n",
    "import pickle\n",
    "import itertools\n",
    "\n"
   ]
  },
  {
   "cell_type": "code",
   "execution_count": 184,
   "metadata": {},
   "outputs": [
    {
     "name": "stderr",
     "output_type": "stream",
     "text": [
      "[nltk_data] Downloading package stopwords to\n",
      "[nltk_data]     C:\\Users\\RaresGeorge\\AppData\\Roaming\\nltk_data...\n",
      "[nltk_data]   Package stopwords is already up-to-date!\n"
     ]
    },
    {
     "data": {
      "text/plain": [
       "True"
      ]
     },
     "execution_count": 184,
     "metadata": {},
     "output_type": "execute_result"
    }
   ],
   "source": [
    "nltk.download('stopwords')\n"
   ]
  },
  {
   "cell_type": "code",
   "execution_count": 185,
   "metadata": {},
   "outputs": [],
   "source": [
    "# DATASET\n",
    "DATASET_COLUMNS = [\"public_id\", \"title\", \"text\", \"our_rating\"]\n",
    "DATASET_ENCODING = \"ISO-8859-1\"\n",
    "TRAIN_SIZE = 0.8\n",
    "\n",
    "# TEXT CLENAING\n",
    "TEXT_CLEANING_RE = \"@\\S+|https?:\\S+|http?:\\S|[^A-Za-z0-9]+\"\n",
    "\n",
    "# WORD2VEC \n",
    "W2V_SIZE = 100\n",
    "W2V_WINDOW = 7\n",
    "W2V_EPOCH = 32\n",
    "W2V_MIN_COUNT = 10\n",
    "\n",
    "# KERAS\n",
    "SEQUENCE_LENGTH = 700\n",
    "EPOCHS = 8\n",
    "BATCH_SIZE = 16\n",
    "\n",
    "# SENTIMENT\n",
    "FALSE = \"FALSE\"\n",
    "TRUE = \"TRUE\"\n",
    "PARTIAL = \"partially false\"\n",
    "SENTIMENT_THRESHOLDS = (0.4, 0.7)\n",
    "\n",
    "# EXPORT\n",
    "KERAS_MODEL = \"model.h5\"\n",
    "WORD2VEC_MODEL = \"model.w2v\"\n",
    "TOKENIZER_MODEL = \"tokenizer.pkl\"\n",
    "ENCODER_MODEL = \"encoder.pkl\""
   ]
  },
  {
   "cell_type": "code",
   "execution_count": 186,
   "metadata": {},
   "outputs": [
    {
     "data": {
      "text/html": [
       "<div>\n",
       "<style scoped>\n",
       "    .dataframe tbody tr th:only-of-type {\n",
       "        vertical-align: middle;\n",
       "    }\n",
       "\n",
       "    .dataframe tbody tr th {\n",
       "        vertical-align: top;\n",
       "    }\n",
       "\n",
       "    .dataframe thead th {\n",
       "        text-align: right;\n",
       "    }\n",
       "</style>\n",
       "<table border=\"1\" class=\"dataframe\">\n",
       "  <thead>\n",
       "    <tr style=\"text-align: right;\">\n",
       "      <th></th>\n",
       "      <th>public_id</th>\n",
       "      <th>title</th>\n",
       "      <th>text</th>\n",
       "      <th>our rating</th>\n",
       "    </tr>\n",
       "  </thead>\n",
       "  <tbody>\n",
       "    <tr>\n",
       "      <th>0</th>\n",
       "      <td>f2182a54</td>\n",
       "      <td>HUGE! Attorney Sidney Powell CONFIRMS Alleged ...</td>\n",
       "      <td>Last week Rep. Louie Gohmert told Chris Salced...</td>\n",
       "      <td>false</td>\n",
       "    </tr>\n",
       "    <tr>\n",
       "      <th>1</th>\n",
       "      <td>c5175d8d</td>\n",
       "      <td>Paul Ryan’s Worst Ally - The New York Times</td>\n",
       "      <td>WHATEVER drama plays out when Republicans meet...</td>\n",
       "      <td>true</td>\n",
       "    </tr>\n",
       "    <tr>\n",
       "      <th>2</th>\n",
       "      <td>213a870b</td>\n",
       "      <td>You Can Get Jail Time Or $3,000 Fine For Not W...</td>\n",
       "      <td>Source page URL  Title You Can Get Jail Time O...</td>\n",
       "      <td>false</td>\n",
       "    </tr>\n",
       "    <tr>\n",
       "      <th>3</th>\n",
       "      <td>392886ea</td>\n",
       "      <td>Antifa gearing up for false flag violence disg...</td>\n",
       "      <td>With merchants in Democrat-run cities boarding...</td>\n",
       "      <td>false</td>\n",
       "    </tr>\n",
       "    <tr>\n",
       "      <th>4</th>\n",
       "      <td>bc6d5d55</td>\n",
       "      <td>Remarks by President Biden on the Administrati...</td>\n",
       "      <td>State Dining Room  4:22 P.M. EST  THE PRESIDEN...</td>\n",
       "      <td>partially false</td>\n",
       "    </tr>\n",
       "    <tr>\n",
       "      <th>...</th>\n",
       "      <td>...</td>\n",
       "      <td>...</td>\n",
       "      <td>...</td>\n",
       "      <td>...</td>\n",
       "    </tr>\n",
       "    <tr>\n",
       "      <th>945</th>\n",
       "      <td>168e5898</td>\n",
       "      <td>NHS fails thousands of new mothers with post-n...</td>\n",
       "      <td>Increased atmospheric carbon dioxide has helpe...</td>\n",
       "      <td>other</td>\n",
       "    </tr>\n",
       "    <tr>\n",
       "      <th>946</th>\n",
       "      <td>94aabd16</td>\n",
       "      <td>Boris Johnson vows to compensate for 'SNP inad...</td>\n",
       "      <td>Boris Johnson has vowed to bring forward measu...</td>\n",
       "      <td>partially false</td>\n",
       "    </tr>\n",
       "    <tr>\n",
       "      <th>947</th>\n",
       "      <td>1a6a1a97</td>\n",
       "      <td>Nothing On This Earth Will Make President Buha...</td>\n",
       "      <td>The number of children being considered for ad...</td>\n",
       "      <td>true</td>\n",
       "    </tr>\n",
       "    <tr>\n",
       "      <th>948</th>\n",
       "      <td>842ac903</td>\n",
       "      <td></td>\n",
       "      <td>Rep. Leon Young figures the Wisconsin Legislat...</td>\n",
       "      <td>false</td>\n",
       "    </tr>\n",
       "    <tr>\n",
       "      <th>949</th>\n",
       "      <td>2c6d2cf7</td>\n",
       "      <td>Even the South Pole Is Warming, and Quickly, S...</td>\n",
       "      <td>Trump official revises Statue of Liberty poem ...</td>\n",
       "      <td>false</td>\n",
       "    </tr>\n",
       "  </tbody>\n",
       "</table>\n",
       "<p>950 rows × 4 columns</p>\n",
       "</div>"
      ],
      "text/plain": [
       "    public_id                                              title  \\\n",
       "0    f2182a54  HUGE! Attorney Sidney Powell CONFIRMS Alleged ...   \n",
       "1    c5175d8d        Paul Ryan’s Worst Ally - The New York Times   \n",
       "2    213a870b  You Can Get Jail Time Or $3,000 Fine For Not W...   \n",
       "3    392886ea  Antifa gearing up for false flag violence disg...   \n",
       "4    bc6d5d55  Remarks by President Biden on the Administrati...   \n",
       "..        ...                                                ...   \n",
       "945  168e5898  NHS fails thousands of new mothers with post-n...   \n",
       "946  94aabd16  Boris Johnson vows to compensate for 'SNP inad...   \n",
       "947  1a6a1a97  Nothing On This Earth Will Make President Buha...   \n",
       "948  842ac903                                                      \n",
       "949  2c6d2cf7  Even the South Pole Is Warming, and Quickly, S...   \n",
       "\n",
       "                                                  text       our rating  \n",
       "0    Last week Rep. Louie Gohmert told Chris Salced...            false  \n",
       "1    WHATEVER drama plays out when Republicans meet...             true  \n",
       "2    Source page URL  Title You Can Get Jail Time O...            false  \n",
       "3    With merchants in Democrat-run cities boarding...            false  \n",
       "4    State Dining Room  4:22 P.M. EST  THE PRESIDEN...  partially false  \n",
       "..                                                 ...              ...  \n",
       "945  Increased atmospheric carbon dioxide has helpe...            other  \n",
       "946  Boris Johnson has vowed to bring forward measu...  partially false  \n",
       "947  The number of children being considered for ad...             true  \n",
       "948  Rep. Leon Young figures the Wisconsin Legislat...            false  \n",
       "949  Trump official revises Statue of Liberty poem ...            false  \n",
       "\n",
       "[950 rows x 4 columns]"
      ]
     },
     "execution_count": 186,
     "metadata": {},
     "output_type": "execute_result"
    }
   ],
   "source": [
    "\n",
    "df = pd.read_csv('combined_all.csv')\n",
    "df.fillna('', inplace=True)\n",
    "#df.drop(columns=df.columns[4],inplace=True)\n",
    "df.head()\n",
    "df"
   ]
  },
  {
   "cell_type": "code",
   "execution_count": 187,
   "metadata": {},
   "outputs": [],
   "source": [
    "decode_map = {\"false\": 2, \"true\": 4, \"partially false\": 0, \"other\":6}\n",
    "def decode_sentiment(label):\n",
    "    return decode_map[label]"
   ]
  },
  {
   "cell_type": "code",
   "execution_count": 188,
   "metadata": {},
   "outputs": [
    {
     "name": "stdout",
     "output_type": "stream",
     "text": [
      "Wall time: 998 µs\n"
     ]
    }
   ],
   "source": [
    "%%time\n",
    "df[\"our rating\"] = df[\"our rating\"].apply(lambda x: decode_sentiment(x))"
   ]
  },
  {
   "cell_type": "code",
   "execution_count": 189,
   "metadata": {},
   "outputs": [
    {
     "data": {
      "text/plain": [
       "Text(0.5, 1.0, 'Dataset labels distribuition')"
      ]
     },
     "execution_count": 189,
     "metadata": {},
     "output_type": "execute_result"
    },
    {
     "data": {
      "image/png": "[encoded data removed]",
      "text/plain": [
       "<Figure size 1152x576 with 1 Axes>"
      ]
     },
     "metadata": {
      "needs_background": "light"
     },
     "output_type": "display_data"
    }
   ],
   "source": [
    "target_cnt = Counter(df[\"our rating\"])\n",
    "\n",
    "plt.figure(figsize=(16,8))\n",
    "plt.bar(target_cnt.keys(), target_cnt.values())\n",
    "plt.title(\"Dataset labels distribuition\")"
   ]
  },
  {
   "cell_type": "code",
   "execution_count": 190,
   "metadata": {},
   "outputs": [],
   "source": [
    "stop_words = stopwords.words(\"english\")\n",
    "stemmer = SnowballStemmer(\"english\")"
   ]
  },
  {
   "cell_type": "code",
   "execution_count": 191,
   "metadata": {},
   "outputs": [],
   "source": [
    "def preprocess(text, stem=False):\n",
    "    # Remove link,user and special characters\n",
    "    text = re.sub(TEXT_CLEANING_RE, ' ', str(text).lower()).strip()\n",
    "    tokens = []\n",
    "    for token in text.split():\n",
    "        if token not in stop_words:\n",
    "            if stem:\n",
    "                tokens.append(stemmer.stem(token))\n",
    "            else:\n",
    "                tokens.append(token)\n",
    "    return \" \".join(tokens)"
   ]
  },
  {
   "cell_type": "code",
   "execution_count": 192,
   "metadata": {},
   "outputs": [
    {
     "name": "stdout",
     "output_type": "stream",
     "text": [
      "Wall time: 1.48 s\n"
     ]
    }
   ],
   "source": [
    "%%time\n",
    "df.text = df.text.apply(lambda x: preprocess(x))"
   ]
  },
  {
   "cell_type": "code",
   "execution_count": 193,
   "metadata": {},
   "outputs": [
    {
     "name": "stdout",
     "output_type": "stream",
     "text": [
      "TRAIN size: 760\n",
      "TEST size: 190\n"
     ]
    }
   ],
   "source": [
    "df_train, df_test = train_test_split(df, test_size=1-TRAIN_SIZE, random_state=42)\n",
    "print(\"TRAIN size:\", len(df_train))\n",
    "print(\"TEST size:\", len(df_test))"
   ]
  },
  {
   "cell_type": "code",
   "execution_count": 194,
   "metadata": {},
   "outputs": [
    {
     "name": "stdout",
     "output_type": "stream",
     "text": [
      "Wall time: 32.9 ms\n"
     ]
    }
   ],
   "source": [
    "%%time\n",
    "documents = [_text.split() for _text in df_train.text] \n"
   ]
  },
  {
   "cell_type": "code",
   "execution_count": 195,
   "metadata": {},
   "outputs": [],
   "source": [
    "w2v_model = gensim.models.word2vec.Word2Vec( \n",
    "                                            window=W2V_WINDOW, \n",
    "                                            min_count=W2V_MIN_COUNT, \n",
    "                                            workers=8)\n"
   ]
  },
  {
   "cell_type": "code",
   "execution_count": 196,
   "metadata": {},
   "outputs": [],
   "source": [
    "w2v_model.build_vocab(documents)"
   ]
  },
  {
   "cell_type": "code",
   "execution_count": 197,
   "metadata": {
    "scrolled": true
   },
   "outputs": [
    {
     "name": "stdout",
     "output_type": "stream",
     "text": [
      "Vocab size 5176\n"
     ]
    }
   ],
   "source": [
    "\n",
    "vocab_size   = len(w2v_model.wv) \n",
    "print(\"Vocab size\", vocab_size)"
   ]
  },
  {
   "cell_type": "code",
   "execution_count": 198,
   "metadata": {
    "scrolled": true
   },
   "outputs": [
    {
     "name": "stdout",
     "output_type": "stream",
     "text": [
      "Wall time: 3.27 s\n"
     ]
    },
    {
     "data": {
      "text/plain": [
       "(8209704, 9956192)"
      ]
     },
     "execution_count": 198,
     "metadata": {},
     "output_type": "execute_result"
    }
   ],
   "source": [
    "%%time\n",
    "w2v_model.train(documents, total_examples=len(documents), epochs=W2V_EPOCH)"
   ]
  },
  {
   "cell_type": "code",
   "execution_count": 199,
   "metadata": {},
   "outputs": [
    {
     "name": "stdout",
     "output_type": "stream",
     "text": [
      "Total words 25675\n",
      "Wall time: 267 ms\n"
     ]
    }
   ],
   "source": [
    "%%time\n",
    "tokenizer = Tokenizer()\n",
    "tokenizer.fit_on_texts(df_train.text)\n",
    "\n",
    "vocab_size = len(tokenizer.word_index) + 1\n",
    "print(\"Total words\", vocab_size)"
   ]
  },
  {
   "cell_type": "code",
   "execution_count": 200,
   "metadata": {},
   "outputs": [
    {
     "name": "stdout",
     "output_type": "stream",
     "text": [
      "Wall time: 225 ms\n"
     ]
    },
    {
     "data": {
      "text/plain": [
       "array([[    0,     0,     0, ...,   498,   164,  4821],\n",
       "       [    0,     0,     0, ...,   859,   291,   884],\n",
       "       [ 6100, 15885,   659, ..., 12020,   868,    35],\n",
       "       ...,\n",
       "       [    0,     0,     0, ...,     4,    88,   395],\n",
       "       [    0,     0,     0, ...,  5136,  4520,  3157],\n",
       "       [    0,     0,     0, ...,   255,   239,   387]])"
      ]
     },
     "execution_count": 200,
     "metadata": {},
     "output_type": "execute_result"
    }
   ],
   "source": [
    "%%time\n",
    "x_train = pad_sequences(tokenizer.texts_to_sequences(df_train.text), maxlen=SEQUENCE_LENGTH)\n",
    "x_test = pad_sequences(tokenizer.texts_to_sequences(df_test.text), maxlen=SEQUENCE_LENGTH)\n",
    "x_train"
   ]
  },
  {
   "cell_type": "code",
   "execution_count": 201,
   "metadata": {},
   "outputs": [
    {
     "data": {
      "text/plain": [
       "[6, 0, 2, 4]"
      ]
     },
     "execution_count": 201,
     "metadata": {},
     "output_type": "execute_result"
    }
   ],
   "source": [
    "labels = df_train[\"our rating\"].unique().tolist()\n",
    "labels"
   ]
  },
  {
   "cell_type": "code",
   "execution_count": 202,
   "metadata": {},
   "outputs": [],
   "source": [
    "encoder = LabelEncoder()\n",
    "encoder.fit(df_train[\"our rating\"].tolist())\n",
    "\n",
    "y_train = encoder.transform(df_train[\"our rating\"].tolist())\n",
    "y_test = encoder.transform(df_test[\"our rating\"].tolist())\n",
    "y_train\n",
    "\n",
    "y_train = y_train.reshape(-1,1)\n",
    "y_test = y_test.reshape(-1,1)\n",
    "\n",
    "#print(\"y_train\",y_train.shape)\n",
    "#print(\"y_test\",y_test.shape)"
   ]
  },
  {
   "cell_type": "code",
   "execution_count": 203,
   "metadata": {},
   "outputs": [
    {
     "name": "stdout",
     "output_type": "stream",
     "text": [
      "x_train (760, 700)\n",
      "y_train (760, 1)\n",
      "\n",
      "x_test (190, 700)\n",
      "y_test (190, 1)\n"
     ]
    }
   ],
   "source": [
    "print(\"x_train\", x_train.shape)\n",
    "print(\"y_train\", y_train.shape)\n",
    "print()\n",
    "print(\"x_test\", x_test.shape)\n",
    "print(\"y_test\", y_test.shape)"
   ]
  },
  {
   "cell_type": "code",
   "execution_count": 204,
   "metadata": {},
   "outputs": [
    {
     "data": {
      "text/plain": [
       "array([[3],\n",
       "       [0],\n",
       "       [1],\n",
       "       [2],\n",
       "       [1],\n",
       "       [1],\n",
       "       [0],\n",
       "       [0],\n",
       "       [0],\n",
       "       [1]], dtype=int64)"
      ]
     },
     "execution_count": 204,
     "metadata": {},
     "output_type": "execute_result"
    }
   ],
   "source": [
    "y_train[:10]"
   ]
  },
  {
   "cell_type": "code",
   "execution_count": 205,
   "metadata": {},
   "outputs": [
    {
     "name": "stdout",
     "output_type": "stream",
     "text": [
      "(25675, 100)\n"
     ]
    }
   ],
   "source": [
    "embedding_matrix = np.zeros((vocab_size, W2V_SIZE))\n",
    "for word, i in tokenizer.word_index.items():\n",
    "  if word in w2v_model.wv:\n",
    "    embedding_matrix[i] = w2v_model.wv[word]\n",
    "print(embedding_matrix.shape)"
   ]
  },
  {
   "cell_type": "code",
   "execution_count": 206,
   "metadata": {},
   "outputs": [],
   "source": [
    "embedding_layer = Embedding(vocab_size, W2V_SIZE, weights=[embedding_matrix], input_length=SEQUENCE_LENGTH, trainable=False)"
   ]
  },
  {
   "cell_type": "code",
   "execution_count": 207,
   "metadata": {
    "scrolled": false
   },
   "outputs": [
    {
     "name": "stdout",
     "output_type": "stream",
     "text": [
      "Model: \"sequential_13\"\n",
      "_________________________________________________________________\n",
      "Layer (type)                 Output Shape              Param #   \n",
      "=================================================================\n",
      "embedding_4 (Embedding)      (None, 700, 100)          2567500   \n",
      "_________________________________________________________________\n",
      "dropout_13 (Dropout)         (None, 700, 100)          0         \n",
      "_________________________________________________________________\n",
      "lstm_13 (LSTM)               (None, 100)               80400     \n",
      "_________________________________________________________________\n",
      "dense_13 (Dense)             (None, 4)                 404       \n",
      "=================================================================\n",
      "Total params: 2,648,304\n",
      "Trainable params: 80,804\n",
      "Non-trainable params: 2,567,500\n",
      "_________________________________________________________________\n"
     ]
    }
   ],
   "source": [
    "model = Sequential()\n",
    "model.add(embedding_layer)\n",
    "model.add(Dropout(0.3))\n",
    "model.add(LSTM(100, dropout=0.2, recurrent_dropout=0.2))\n",
    "model.add(Dense(4, activation='softmax'))\n",
    "\n",
    "model.summary()"
   ]
  },
  {
   "cell_type": "code",
   "execution_count": 208,
   "metadata": {},
   "outputs": [],
   "source": [
    "model.compile(loss='sparse_categorical_crossentropy',\n",
    "              optimizer=\"adam\",\n",
    "              metrics=['accuracy'])"
   ]
  },
  {
   "cell_type": "code",
   "execution_count": 209,
   "metadata": {},
   "outputs": [],
   "source": [
    "callbacks = [ ReduceLROnPlateau(monitor='val_loss', patience=5, cooldown=0),\n",
    "              EarlyStopping(monitor='val_accuracy', min_delta=1e-4, patience=5)]"
   ]
  },
  {
   "cell_type": "code",
   "execution_count": 222,
   "metadata": {},
   "outputs": [
    {
     "name": "stdout",
     "output_type": "stream",
     "text": [
      "Epoch 1/8\n",
      "43/43 [==============================] - 58s 1s/step - loss: 0.5580 - accuracy: 0.7997 - val_loss: 1.6159 - val_accuracy: 0.5263\n",
      "Epoch 2/8\n",
      "43/43 [==============================] - 58s 1s/step - loss: 0.5526 - accuracy: 0.8070 - val_loss: 1.6292 - val_accuracy: 0.5395\n",
      "Epoch 3/8\n",
      "43/43 [==============================] - 58s 1s/step - loss: 0.5298 - accuracy: 0.8114 - val_loss: 1.6350 - val_accuracy: 0.5526\n",
      "Epoch 4/8\n",
      "43/43 [==============================] - 58s 1s/step - loss: 0.5311 - accuracy: 0.7865 - val_loss: 1.6844 - val_accuracy: 0.5526\n",
      "Epoch 5/8\n",
      "43/43 [==============================] - 58s 1s/step - loss: 0.5305 - accuracy: 0.8070 - val_loss: 1.6717 - val_accuracy: 0.5263\n",
      "Epoch 6/8\n",
      "43/43 [==============================] - 58s 1s/step - loss: 0.5253 - accuracy: 0.7953 - val_loss: 1.6845 - val_accuracy: 0.5132\n",
      "Epoch 7/8\n",
      "43/43 [==============================] - 59s 1s/step - loss: 0.5000 - accuracy: 0.8041 - val_loss: 1.6881 - val_accuracy: 0.5132\n",
      "Epoch 8/8\n",
      "43/43 [==============================] - 59s 1s/step - loss: 0.4910 - accuracy: 0.8173 - val_loss: 1.6921 - val_accuracy: 0.5132\n",
      "Wall time: 7min 46s\n"
     ]
    }
   ],
   "source": [
    "%%time\n",
    "history = model.fit(x_train, y_train,\n",
    "                    batch_size=BATCH_SIZE,\n",
    "                    epochs=EPOCHS,\n",
    "                    validation_split=0.1,\n",
    "                    verbose=1,callbacks=callbacks\n",
    "                    )"
   ]
  },
  {
   "cell_type": "code",
   "execution_count": 223,
   "metadata": {},
   "outputs": [
    {
     "name": "stdout",
     "output_type": "stream",
     "text": [
      "12/12 [==============================] - 2s 181ms/step - loss: 1.4815 - accuracy: 0.5211\n",
      "\n",
      "ACCURACY: 0.5210526585578918\n",
      "LOSS: 1.481467843055725\n",
      "Wall time: 2.21 s\n"
     ]
    }
   ],
   "source": [
    "%%time\n",
    "score = model.evaluate(x_test, y_test, batch_size=BATCH_SIZE)\n",
    "print()\n",
    "\n",
    "print(\"ACCURACY:\",score[1])\n",
    "print(\"LOSS:\",score[0])"
   ]
  },
  {
   "cell_type": "code",
   "execution_count": 224,
   "metadata": {
    "scrolled": false
   },
   "outputs": [
    {
     "data": {
      "text/plain": [
       "array([1, 1, 1, 1, 1, 0, 1, 2, 0, 0, 1, 1, 1, 1, 1, 2, 1, 0, 1, 1, 1, 3,\n",
       "       1, 1, 1, 0, 1, 1, 0, 0, 1, 1, 1, 1, 1, 1, 1, 0, 1, 1, 0, 1, 1, 1,\n",
       "       0, 1, 0, 2, 2, 2, 1, 1, 1, 1, 1, 0, 1, 1, 1, 1, 0, 1, 1, 0, 1, 2,\n",
       "       1, 1, 1, 1, 0, 1, 0, 1, 1, 2, 1, 1, 0, 1, 1, 1, 0, 0, 1, 0, 2, 1,\n",
       "       1, 0, 0, 0, 2, 1, 1, 1, 1, 1, 1, 1, 0, 1, 1, 1, 1, 1, 1, 0, 1, 1,\n",
       "       1, 1, 1, 1, 0, 1, 2, 2, 2, 1, 0, 1, 0, 1, 0, 1, 1, 0, 0, 1, 1, 3,\n",
       "       0, 1, 1, 0, 1, 0, 1, 1, 1, 1, 1, 1, 2, 1, 2, 1, 1, 1, 1, 1, 2, 0,\n",
       "       0, 2, 1, 1, 1, 0, 1, 0, 1, 2, 1, 1, 1, 2, 1, 1, 0, 1, 0, 1, 0, 1,\n",
       "       1, 1, 1, 1, 0, 1, 1, 1, 1, 2, 0, 1, 0, 0], dtype=int64)"
      ]
     },
     "execution_count": 224,
     "metadata": {},
     "output_type": "execute_result"
    }
   ],
   "source": [
    "pred = model.predict_classes(x_test)\n",
    "pred"
   ]
  },
  {
   "cell_type": "code",
   "execution_count": 225,
   "metadata": {},
   "outputs": [
    {
     "data": {
      "text/plain": [
       "<AxesSubplot:>"
      ]
     },
     "execution_count": 225,
     "metadata": {},
     "output_type": "execute_result"
    },
    {
     "data": {
      "image/png": "[encoded data removed]",
      "text/plain": [
       "<Figure size 720x504 with 2 Axes>"
      ]
     },
     "metadata": {
      "needs_background": "light"
     },
     "output_type": "display_data"
    }
   ],
   "source": [
    "import seaborn as sn\n",
    "cm = confusion_matrix(y_test, pred)\n",
    "df_cm = pd.DataFrame(cm, index=['paritally false', 'false', 'true', 'other'], \n",
    "                     columns=['partially false', 'false', 'true', 'other'])\n",
    "plt.figure(figsize = (10, 7))\n",
    "sn.heatmap(df_cm, cmap=\"Blues\", annot=True)"
   ]
  },
  {
   "cell_type": "code",
   "execution_count": 226,
   "metadata": {
    "scrolled": true
   },
   "outputs": [
    {
     "data": {
      "text/html": [
       "<div>\n",
       "<style scoped>\n",
       "    .dataframe tbody tr th:only-of-type {\n",
       "        vertical-align: middle;\n",
       "    }\n",
       "\n",
       "    .dataframe tbody tr th {\n",
       "        vertical-align: top;\n",
       "    }\n",
       "\n",
       "    .dataframe thead th {\n",
       "        text-align: right;\n",
       "    }\n",
       "</style>\n",
       "<table border=\"1\" class=\"dataframe\">\n",
       "  <thead>\n",
       "    <tr style=\"text-align: right;\">\n",
       "      <th></th>\n",
       "      <th>public_id</th>\n",
       "      <th>text</th>\n",
       "      <th>title</th>\n",
       "      <th>our rating</th>\n",
       "    </tr>\n",
       "  </thead>\n",
       "  <tbody>\n",
       "    <tr>\n",
       "      <th>0</th>\n",
       "      <td>81a67c96</td>\n",
       "      <td>Former state House Majority Leader Adam Hasner...</td>\n",
       "      <td>- The Washington Post</td>\n",
       "      <td>NaN</td>\n",
       "    </tr>\n",
       "    <tr>\n",
       "      <th>1</th>\n",
       "      <td>6e5ec6fb</td>\n",
       "      <td>Editor’s note: Subsequent to this article, VTD...</td>\n",
       "      <td>Rubio Comments on Iran Nuclear Deal</td>\n",
       "      <td>NaN</td>\n",
       "    </tr>\n",
       "    <tr>\n",
       "      <th>2</th>\n",
       "      <td>d9cd4895</td>\n",
       "      <td>The hypocritical Lib Dems want to ignore the r...</td>\n",
       "      <td>Climate Alarmists Caught Manipulating Temperat...</td>\n",
       "      <td>NaN</td>\n",
       "    </tr>\n",
       "    <tr>\n",
       "      <th>3</th>\n",
       "      <td>4a1a9b9f</td>\n",
       "      <td>Urgent action to boost the number of children ...</td>\n",
       "      <td>Who are the arsonists setting rural fires in W...</td>\n",
       "      <td>NaN</td>\n",
       "    </tr>\n",
       "    <tr>\n",
       "      <th>4</th>\n",
       "      <td>6d16fa40</td>\n",
       "      <td>By Ken Allen AFSCME Council 75 represents the ...</td>\n",
       "      <td>Diabetes prescriptions now cost NHS £1bn, figu...</td>\n",
       "      <td>NaN</td>\n",
       "    </tr>\n",
       "    <tr>\n",
       "      <th>...</th>\n",
       "      <td>...</td>\n",
       "      <td>...</td>\n",
       "      <td>...</td>\n",
       "      <td>...</td>\n",
       "    </tr>\n",
       "    <tr>\n",
       "      <th>359</th>\n",
       "      <td>3d1a155a</td>\n",
       "      <td>There is nothing we can do about it, except to...</td>\n",
       "      <td>The Sea Is Rising, but Not Because of Climate ...</td>\n",
       "      <td>NaN</td>\n",
       "    </tr>\n",
       "    <tr>\n",
       "      <th>360</th>\n",
       "      <td>6c425155</td>\n",
       "      <td>Increased atmospheric carbon dioxide has helpe...</td>\n",
       "      <td>The Phony War Against CO2\\n</td>\n",
       "      <td>NaN</td>\n",
       "    </tr>\n",
       "    <tr>\n",
       "      <th>361</th>\n",
       "      <td>f0669fad</td>\n",
       "      <td>Considering the importance of immunity boostin...</td>\n",
       "      <td>Government of India Ministry of Ayurveda, Yoga...</td>\n",
       "      <td>NaN</td>\n",
       "    </tr>\n",
       "    <tr>\n",
       "      <th>362</th>\n",
       "      <td>8060b507</td>\n",
       "      <td>Even if world temperatures rise, the appropria...</td>\n",
       "      <td>Climate Change Isn’t the End of the World</td>\n",
       "      <td>NaN</td>\n",
       "    </tr>\n",
       "    <tr>\n",
       "      <th>363</th>\n",
       "      <td>c3b3947d</td>\n",
       "      <td>CORRECTION: An earlier version of this article...</td>\n",
       "      <td>Earth heading for 'mini ice age' within 15 years</td>\n",
       "      <td>NaN</td>\n",
       "    </tr>\n",
       "  </tbody>\n",
       "</table>\n",
       "<p>364 rows × 4 columns</p>\n",
       "</div>"
      ],
      "text/plain": [
       "    public_id                                               text  \\\n",
       "0    81a67c96  Former state House Majority Leader Adam Hasner...   \n",
       "1    6e5ec6fb  Editor’s note: Subsequent to this article, VTD...   \n",
       "2    d9cd4895  The hypocritical Lib Dems want to ignore the r...   \n",
       "3    4a1a9b9f  Urgent action to boost the number of children ...   \n",
       "4    6d16fa40  By Ken Allen AFSCME Council 75 represents the ...   \n",
       "..        ...                                                ...   \n",
       "359  3d1a155a  There is nothing we can do about it, except to...   \n",
       "360  6c425155  Increased atmospheric carbon dioxide has helpe...   \n",
       "361  f0669fad  Considering the importance of immunity boostin...   \n",
       "362  8060b507  Even if world temperatures rise, the appropria...   \n",
       "363  c3b3947d  CORRECTION: An earlier version of this article...   \n",
       "\n",
       "                                                 title  our rating  \n",
       "0                                - The Washington Post         NaN  \n",
       "1                  Rubio Comments on Iran Nuclear Deal         NaN  \n",
       "2    Climate Alarmists Caught Manipulating Temperat...         NaN  \n",
       "3    Who are the arsonists setting rural fires in W...         NaN  \n",
       "4    Diabetes prescriptions now cost NHS £1bn, figu...         NaN  \n",
       "..                                                 ...         ...  \n",
       "359  The Sea Is Rising, but Not Because of Climate ...         NaN  \n",
       "360                        The Phony War Against CO2\\n         NaN  \n",
       "361  Government of India Ministry of Ayurveda, Yoga...         NaN  \n",
       "362          Climate Change Isn’t the End of the World         NaN  \n",
       "363   Earth heading for 'mini ice age' within 15 years         NaN  \n",
       "\n",
       "[364 rows x 4 columns]"
      ]
     },
     "execution_count": 226,
     "metadata": {},
     "output_type": "execute_result"
    }
   ],
   "source": [
    "df1=pd.read_csv('Task3a_testing.csv')\n",
    "df1.head()\n",
    "df1"
   ]
  },
  {
   "cell_type": "code",
   "execution_count": 227,
   "metadata": {},
   "outputs": [],
   "source": [
    "df1.text = df1.text.apply(lambda x: preprocess(x))"
   ]
  },
  {
   "cell_type": "code",
   "execution_count": 228,
   "metadata": {},
   "outputs": [],
   "source": [
    "x1_test = pad_sequences(tokenizer.texts_to_sequences(df1.text), maxlen=SEQUENCE_LENGTH)"
   ]
  },
  {
   "cell_type": "code",
   "execution_count": 229,
   "metadata": {},
   "outputs": [
    {
     "name": "stderr",
     "output_type": "stream",
     "text": [
      "C:\\Users\\RaresGeorge\\anaconda3\\lib\\site-packages\\tensorflow\\python\\keras\\engine\\sequential.py:450: UserWarning: `model.predict_classes()` is deprecated and will be removed after 2021-01-01. Please use instead:* `np.argmax(model.predict(x), axis=-1)`,   if your model does multi-class classification   (e.g. if it uses a `softmax` last-layer activation).* `(model.predict(x) > 0.5).astype(\"int32\")`,   if your model does binary classification   (e.g. if it uses a `sigmoid` last-layer activation).\n",
      "  warnings.warn('`model.predict_classes()` is deprecated and '\n"
     ]
    },
    {
     "data": {
      "text/plain": [
       "array([0, 1, 1, 1, 2, 0, 2, 2, 1, 0, 1, 1, 1, 1, 1, 1, 3, 0, 0, 1, 1, 1,\n",
       "       1, 0, 1, 1, 3, 1, 3, 1, 2, 1, 1, 1, 1, 1, 2, 1, 0, 1, 0, 1, 2, 1,\n",
       "       2, 2, 0, 1, 0, 1, 1, 1, 2, 1, 0, 1, 1, 1, 1, 1, 2, 1, 1, 1, 2, 2,\n",
       "       0, 1, 1, 1, 1, 1, 0, 1, 1, 1, 1, 1, 1, 1, 1, 3, 1, 0, 1, 0, 1, 2,\n",
       "       1, 1, 1, 0, 0, 1, 1, 1, 0, 1, 1, 0, 1, 1, 1, 1, 1, 1, 1, 1, 1, 1,\n",
       "       1, 1, 1, 2, 0, 1, 2, 2, 0, 1, 1, 0, 1, 1, 0, 1, 0, 0, 1, 0, 1, 0,\n",
       "       1, 2, 1, 1, 1, 1, 2, 2, 1, 1, 1, 2, 1, 0, 0, 2, 1, 0, 2, 2, 1, 2,\n",
       "       2, 2, 0, 0, 2, 0, 1, 0, 1, 2, 2, 0, 0, 1, 0, 2, 2, 1, 1, 2, 0, 2,\n",
       "       1, 2, 2, 2, 2, 2, 2, 2, 1, 0, 1, 1, 1, 1, 0, 1, 1, 2, 2, 0, 2, 2,\n",
       "       0, 0, 2, 2, 2, 0, 0, 2, 1, 1, 1, 2, 1, 2, 0, 1, 2, 1, 0, 0, 0, 0,\n",
       "       2, 2, 1, 0, 2, 2, 1, 2, 1, 0, 0, 1, 1, 1, 1, 2, 1, 1, 1, 1, 0, 1,\n",
       "       1, 1, 2, 1, 1, 1, 1, 1, 2, 1, 3, 3, 1, 0, 2, 1, 2, 1, 1, 1, 2, 2,\n",
       "       1, 1, 1, 1, 1, 0, 2, 2, 1, 1, 1, 2, 0, 2, 1, 2, 1, 2, 2, 1, 3, 2,\n",
       "       1, 0, 0, 0, 2, 1, 2, 2, 0, 1, 1, 1, 1, 2, 2, 1, 1, 1, 1, 1, 0, 1,\n",
       "       1, 1, 1, 1, 0, 3, 1, 2, 1, 2, 1, 1, 1, 0, 1, 0, 1, 1, 1, 1, 2, 1,\n",
       "       1, 1, 1, 1, 1, 2, 1, 1, 2, 1, 2, 1, 1, 1, 1, 0, 1, 1, 1, 0, 1, 1,\n",
       "       1, 1, 1, 1, 2, 1, 1, 1, 1, 0, 0, 1], dtype=int64)"
      ]
     },
     "execution_count": 229,
     "metadata": {},
     "output_type": "execute_result"
    }
   ],
   "source": [
    "pred1 = model.predict_classes(x1_test)\n",
    "pred1"
   ]
  },
  {
   "cell_type": "code",
   "execution_count": 230,
   "metadata": {},
   "outputs": [
    {
     "data": {
      "text/plain": [
       "['partially false',\n",
       " 'false',\n",
       " 'false',\n",
       " 'false',\n",
       " 'true',\n",
       " 'partially false',\n",
       " 'true',\n",
       " 'true',\n",
       " 'false',\n",
       " 'partially false',\n",
       " 'false',\n",
       " 'false',\n",
       " 'false',\n",
       " 'false',\n",
       " 'false',\n",
       " 'false',\n",
       " 'other',\n",
       " 'partially false',\n",
       " 'partially false',\n",
       " 'false',\n",
       " 'false',\n",
       " 'false',\n",
       " 'false',\n",
       " 'partially false',\n",
       " 'false',\n",
       " 'false',\n",
       " 'other',\n",
       " 'false',\n",
       " 'other',\n",
       " 'false',\n",
       " 'true',\n",
       " 'false',\n",
       " 'false',\n",
       " 'false',\n",
       " 'false',\n",
       " 'false',\n",
       " 'true',\n",
       " 'false',\n",
       " 'partially false',\n",
       " 'false',\n",
       " 'partially false',\n",
       " 'false',\n",
       " 'true',\n",
       " 'false',\n",
       " 'true',\n",
       " 'true',\n",
       " 'partially false',\n",
       " 'false',\n",
       " 'partially false',\n",
       " 'false',\n",
       " 'false',\n",
       " 'false',\n",
       " 'true',\n",
       " 'false',\n",
       " 'partially false',\n",
       " 'false',\n",
       " 'false',\n",
       " 'false',\n",
       " 'false',\n",
       " 'false',\n",
       " 'true',\n",
       " 'false',\n",
       " 'false',\n",
       " 'false',\n",
       " 'true',\n",
       " 'true',\n",
       " 'partially false',\n",
       " 'false',\n",
       " 'false',\n",
       " 'false',\n",
       " 'false',\n",
       " 'false',\n",
       " 'partially false',\n",
       " 'false',\n",
       " 'false',\n",
       " 'false',\n",
       " 'false',\n",
       " 'false',\n",
       " 'false',\n",
       " 'false',\n",
       " 'false',\n",
       " 'other',\n",
       " 'false',\n",
       " 'partially false',\n",
       " 'false',\n",
       " 'partially false',\n",
       " 'false',\n",
       " 'true',\n",
       " 'false',\n",
       " 'false',\n",
       " 'false',\n",
       " 'partially false',\n",
       " 'partially false',\n",
       " 'false',\n",
       " 'false',\n",
       " 'false',\n",
       " 'partially false',\n",
       " 'false',\n",
       " 'false',\n",
       " 'partially false',\n",
       " 'false',\n",
       " 'false',\n",
       " 'false',\n",
       " 'false',\n",
       " 'false',\n",
       " 'false',\n",
       " 'false',\n",
       " 'false',\n",
       " 'false',\n",
       " 'false',\n",
       " 'false',\n",
       " 'false',\n",
       " 'false',\n",
       " 'true',\n",
       " 'partially false',\n",
       " 'false',\n",
       " 'true',\n",
       " 'true',\n",
       " 'partially false',\n",
       " 'false',\n",
       " 'false',\n",
       " 'partially false',\n",
       " 'false',\n",
       " 'false',\n",
       " 'partially false',\n",
       " 'false',\n",
       " 'partially false',\n",
       " 'partially false',\n",
       " 'false',\n",
       " 'partially false',\n",
       " 'false',\n",
       " 'partially false',\n",
       " 'false',\n",
       " 'true',\n",
       " 'false',\n",
       " 'false',\n",
       " 'false',\n",
       " 'false',\n",
       " 'true',\n",
       " 'true',\n",
       " 'false',\n",
       " 'false',\n",
       " 'false',\n",
       " 'true',\n",
       " 'false',\n",
       " 'partially false',\n",
       " 'partially false',\n",
       " 'true',\n",
       " 'false',\n",
       " 'partially false',\n",
       " 'true',\n",
       " 'true',\n",
       " 'false',\n",
       " 'true',\n",
       " 'true',\n",
       " 'true',\n",
       " 'partially false',\n",
       " 'partially false',\n",
       " 'true',\n",
       " 'partially false',\n",
       " 'false',\n",
       " 'partially false',\n",
       " 'false',\n",
       " 'true',\n",
       " 'true',\n",
       " 'partially false',\n",
       " 'partially false',\n",
       " 'false',\n",
       " 'partially false',\n",
       " 'true',\n",
       " 'true',\n",
       " 'false',\n",
       " 'false',\n",
       " 'true',\n",
       " 'partially false',\n",
       " 'true',\n",
       " 'false',\n",
       " 'true',\n",
       " 'true',\n",
       " 'true',\n",
       " 'true',\n",
       " 'true',\n",
       " 'true',\n",
       " 'true',\n",
       " 'false',\n",
       " 'partially false',\n",
       " 'false',\n",
       " 'false',\n",
       " 'false',\n",
       " 'false',\n",
       " 'partially false',\n",
       " 'false',\n",
       " 'false',\n",
       " 'true',\n",
       " 'true',\n",
       " 'partially false',\n",
       " 'true',\n",
       " 'true',\n",
       " 'partially false',\n",
       " 'partially false',\n",
       " 'true',\n",
       " 'true',\n",
       " 'true',\n",
       " 'partially false',\n",
       " 'partially false',\n",
       " 'true',\n",
       " 'false',\n",
       " 'false',\n",
       " 'false',\n",
       " 'true',\n",
       " 'false',\n",
       " 'true',\n",
       " 'partially false',\n",
       " 'false',\n",
       " 'true',\n",
       " 'false',\n",
       " 'partially false',\n",
       " 'partially false',\n",
       " 'partially false',\n",
       " 'partially false',\n",
       " 'true',\n",
       " 'true',\n",
       " 'false',\n",
       " 'partially false',\n",
       " 'true',\n",
       " 'true',\n",
       " 'false',\n",
       " 'true',\n",
       " 'false',\n",
       " 'partially false',\n",
       " 'partially false',\n",
       " 'false',\n",
       " 'false',\n",
       " 'false',\n",
       " 'false',\n",
       " 'true',\n",
       " 'false',\n",
       " 'false',\n",
       " 'false',\n",
       " 'false',\n",
       " 'partially false',\n",
       " 'false',\n",
       " 'false',\n",
       " 'false',\n",
       " 'true',\n",
       " 'false',\n",
       " 'false',\n",
       " 'false',\n",
       " 'false',\n",
       " 'false',\n",
       " 'true',\n",
       " 'false',\n",
       " 'other',\n",
       " 'other',\n",
       " 'false',\n",
       " 'partially false',\n",
       " 'true',\n",
       " 'false',\n",
       " 'true',\n",
       " 'false',\n",
       " 'false',\n",
       " 'false',\n",
       " 'true',\n",
       " 'true',\n",
       " 'false',\n",
       " 'false',\n",
       " 'false',\n",
       " 'false',\n",
       " 'false',\n",
       " 'partially false',\n",
       " 'true',\n",
       " 'true',\n",
       " 'false',\n",
       " 'false',\n",
       " 'false',\n",
       " 'true',\n",
       " 'partially false',\n",
       " 'true',\n",
       " 'false',\n",
       " 'true',\n",
       " 'false',\n",
       " 'true',\n",
       " 'true',\n",
       " 'false',\n",
       " 'other',\n",
       " 'true',\n",
       " 'false',\n",
       " 'partially false',\n",
       " 'partially false',\n",
       " 'partially false',\n",
       " 'true',\n",
       " 'false',\n",
       " 'true',\n",
       " 'true',\n",
       " 'partially false',\n",
       " 'false',\n",
       " 'false',\n",
       " 'false',\n",
       " 'false',\n",
       " 'true',\n",
       " 'true',\n",
       " 'false',\n",
       " 'false',\n",
       " 'false',\n",
       " 'false',\n",
       " 'false',\n",
       " 'partially false',\n",
       " 'false',\n",
       " 'false',\n",
       " 'false',\n",
       " 'false',\n",
       " 'false',\n",
       " 'partially false',\n",
       " 'other',\n",
       " 'false',\n",
       " 'true',\n",
       " 'false',\n",
       " 'true',\n",
       " 'false',\n",
       " 'false',\n",
       " 'false',\n",
       " 'partially false',\n",
       " 'false',\n",
       " 'partially false',\n",
       " 'false',\n",
       " 'false',\n",
       " 'false',\n",
       " 'false',\n",
       " 'true',\n",
       " 'false',\n",
       " 'false',\n",
       " 'false',\n",
       " 'false',\n",
       " 'false',\n",
       " 'false',\n",
       " 'true',\n",
       " 'false',\n",
       " 'false',\n",
       " 'true',\n",
       " 'false',\n",
       " 'true',\n",
       " 'false',\n",
       " 'false',\n",
       " 'false',\n",
       " 'false',\n",
       " 'partially false',\n",
       " 'false',\n",
       " 'false',\n",
       " 'false',\n",
       " 'partially false',\n",
       " 'false',\n",
       " 'false',\n",
       " 'false',\n",
       " 'false',\n",
       " 'false',\n",
       " 'false',\n",
       " 'true',\n",
       " 'false',\n",
       " 'false',\n",
       " 'false',\n",
       " 'false',\n",
       " 'partially false',\n",
       " 'partially false',\n",
       " 'false']"
      ]
     },
     "execution_count": 230,
     "metadata": {},
     "output_type": "execute_result"
    }
   ],
   "source": [
    "preds=[]\n",
    "for i in pred1:\n",
    "    if i==1:\n",
    "         preds.append('false')\n",
    "    if i==2:\n",
    "        preds.append('true')\n",
    "    if i==3:\n",
    "        preds.append('other')\n",
    "    if i==0:\n",
    "        preds.append('partially false')\n",
    "preds\n",
    "        "
   ]
  },
  {
   "cell_type": "code",
   "execution_count": 232,
   "metadata": {
    "scrolled": true
   },
   "outputs": [],
   "source": [
    "df_out=pd.DataFrame()\n",
    "df_out['public_id']=df1['public_id']\n",
    "df_out['predicted_rating']=preds\n",
    "df_out.to_csv('predictionsFinal3.csv', index=False)"
   ]
  },
  {
   "cell_type": "code",
   "execution_count": null,
   "metadata": {},
   "outputs": [],
   "source": []
  }
 ],
 "metadata": {
  "kernelspec": {
   "display_name": "Python 3",
   "language": "python",
   "name": "python3"
  },
  "language_info": {
   "codemirror_mode": {
    "name": "ipython",
    "version": 3
   },
   "file_extension": ".py",
   "mimetype": "text/x-python",
   "name": "python",
   "nbconvert_exporter": "python",
   "pygments_lexer": "ipython3",
   "version": "3.8.5"
  }
 },
 "nbformat": 4,
 "nbformat_minor": 4
}
